{
  "nbformat": 4,
  "nbformat_minor": 0,
  "metadata": {
    "colab": {
      "name": "Python Assignment3.ipynb",
      "provenance": []
    },
    "kernelspec": {
      "name": "python3",
      "display_name": "Python 3"
    }
  },
  "cells": [
    {
      "cell_type": "markdown",
      "metadata": {
        "id": "plw58AaBPus-"
      },
      "source": [
        "# ***Python Assignment 3***\n",
        "\n"
      ]
    },
    {
      "cell_type": "markdown",
      "metadata": {
        "id": "cJpA6R8YPx5N"
      },
      "source": [
        "1.1 Write a Python Program to implement your own myreduce() function which works exactly like Python's built-in function reduce()"
      ]
    },
    {
      "cell_type": "code",
      "metadata": {
        "id": "0zoUvPlWa6OM"
      },
      "source": [
        "def myreduce(func,seq):\n",
        "  # item in sequence then assign to result\n",
        "  result = seq[0]\n",
        "  \n",
        "  # iterate over remaining items in sequence and apply reduction function \n",
        "  for item in seq[1:]:\n",
        "    result = func(result, item)\n",
        "  return result\n",
        "\n",
        " # myreduce((lambda x, y: x * y),[9, 8, 7, 6])\n"
      ],
      "execution_count": 4,
      "outputs": []
    },
    {
      "cell_type": "code",
      "metadata": {
        "id": "JetG8eInZSwx",
        "colab": {
          "base_uri": "https://localhost:8080/"
        },
        "outputId": "5c107be5-0266-4f98-8ba8-7a9073583089"
      },
      "source": [
        "my_reduce = myreduce((lambda x,y: x*y), [9,8,6,5])\n",
        "my_reduce"
      ],
      "execution_count": 7,
      "outputs": [
        {
          "output_type": "execute_result",
          "data": {
            "text/plain": [
              "2160"
            ]
          },
          "metadata": {
            "tags": []
          },
          "execution_count": 7
        }
      ]
    },
    {
      "cell_type": "markdown",
      "metadata": {
        "id": "0gr52j4NjyzG"
      },
      "source": [
        "1.2 Write a Python program to implement your own myfilter() function which works exactly like Python's built-in function filter()"
      ]
    },
    {
      "cell_type": "code",
      "metadata": {
        "id": "unFYRBvlZSp0"
      },
      "source": [
        "def myfilter(func, seq):\n",
        "  result = []\n",
        "  for item in seq:\n",
        "    if func(item):\n",
        "      result.append(item)\n",
        "  return result\n",
        "      "
      ],
      "execution_count": 19,
      "outputs": []
    },
    {
      "cell_type": "code",
      "metadata": {
        "id": "O6lY1uQsZSi5",
        "colab": {
          "base_uri": "https://localhost:8080/"
        },
        "outputId": "4895484d-9bca-4b86-e1f0-179c5474b038"
      },
      "source": [
        "# test myfilter function\n",
        "def ispositive(x):\n",
        " if (x >= 0): \n",
        "  return False \n",
        " else: \n",
        "  return True\n",
        "\n",
        "\n",
        "print (\"Filter only positive Integers on list [0,1,-2,3,4,5] using custom filter function\"  + str(myfilter(ispositive, [0,1,-2,3,4,5])))"
      ],
      "execution_count": 21,
      "outputs": [
        {
          "output_type": "stream",
          "text": [
            "Filter only positive Integers on list [0,1,-2,3,4,5] using custom filter function[-2]\n"
          ],
          "name": "stdout"
        }
      ]
    },
    {
      "cell_type": "code",
      "metadata": {
        "id": "Szbo6UX8ZSHJ"
      },
      "source": [
        ""
      ],
      "execution_count": null,
      "outputs": []
    },
    {
      "cell_type": "markdown",
      "metadata": {
        "id": "GBNms5BppRSa"
      },
      "source": [
        "Problem 2\n",
        "\n",
        "Implement List comprehensions to produce the following lists.\n",
        "\n",
        "Write List comprehensions to produce the following Lists\n",
        "\n",
        "['A', 'C', 'A', 'D', 'G', 'I', ’L’, ‘ D’]\n",
        "\n",
        "['x', 'xx', 'xxx', 'xxxx', 'y', 'yy', 'yyy', 'yyyy', 'z', 'zz', 'zzz', 'zzzz']\n",
        "\n",
        "['x', 'y', 'z', 'xx', 'yy', 'zz', 'xxx', 'yyy', 'zzz', 'xxxx', 'yyyy', 'zzzz']\n",
        "\n",
        "[[2], [3], [4], [3], [4], [5], [4], [5], [6]]\n",
        "\n",
        "[[2, 3, 4, 5], [3, 4, 5, 6], [4, 5, 6, 7], [5, 6, 7, 8]]\n",
        "\n",
        "[(1, 1), (2, 1), (3, 1), (1, 2), (2, 2), (3, 2), (1, 3), (2, 3), (3, 3)]\n"
      ]
    },
    {
      "cell_type": "code",
      "metadata": {
        "id": "Z9BFgQRuZSU2",
        "colab": {
          "base_uri": "https://localhost:8080/"
        },
        "outputId": "aebc7de4-4404-4b79-82d9-034172aaed7b"
      },
      "source": [
        "myword = []\n",
        "for i in 'ACADGILD':\n",
        "  myword.append(i)\n",
        "myword"
      ],
      "execution_count": 22,
      "outputs": [
        {
          "output_type": "execute_result",
          "data": {
            "text/plain": [
              "['A', 'C', 'A', 'D', 'G', 'I', 'L', 'D']"
            ]
          },
          "metadata": {
            "tags": []
          },
          "execution_count": 22
        }
      ]
    },
    {
      "cell_type": "code",
      "metadata": {
        "id": "3Hm0znoBZSOA",
        "colab": {
          "base_uri": "https://localhost:8080/"
        },
        "outputId": "d328c513-9b72-4e17-a5de-746605265987"
      },
      "source": [
        "mylist_1 = ['x','y','z']\n",
        "op = [j*i for j in mylist_1 for i in range(1,5)]\n",
        "print(op)\n"
      ],
      "execution_count": 27,
      "outputs": [
        {
          "output_type": "stream",
          "text": [
            "['x', 'xx', 'xxx', 'xxxx', 'y', 'yy', 'yyy', 'yyyy', 'z', 'zz', 'zzz', 'zzzz']\n"
          ],
          "name": "stdout"
        }
      ]
    },
    {
      "cell_type": "code",
      "metadata": {
        "colab": {
          "base_uri": "https://localhost:8080/"
        },
        "id": "_c541N4a1Idg",
        "outputId": "58fcd96c-e289-4501-a8fa-4361bdd460a1"
      },
      "source": [
        "op_2 = [j*i for i in range(1,5) for j in mylist_1]\n",
        "op_2"
      ],
      "execution_count": 28,
      "outputs": [
        {
          "output_type": "execute_result",
          "data": {
            "text/plain": [
              "['x', 'y', 'z', 'xx', 'yy', 'zz', 'xxx', 'yyy', 'zzz', 'xxxx', 'yyyy', 'zzzz']"
            ]
          },
          "metadata": {
            "tags": []
          },
          "execution_count": 28
        }
      ]
    },
    {
      "cell_type": "code",
      "metadata": {
        "colab": {
          "base_uri": "https://localhost:8080/"
        },
        "id": "6vWCFLjq1vUS",
        "outputId": "b9a8b2db-7c0c-47cc-828d-a5cd4d00c1a6"
      },
      "source": [
        "num_list = [2,3,4]\n",
        "num_op = [[j+i] for j in num_list for i in range(0,3)]\n",
        "num_op"
      ],
      "execution_count": 30,
      "outputs": [
        {
          "output_type": "execute_result",
          "data": {
            "text/plain": [
              "[[2], [3], [4], [3], [4], [5], [4], [5], [6]]"
            ]
          },
          "metadata": {
            "tags": []
          },
          "execution_count": 30
        }
      ]
    },
    {
      "cell_type": "code",
      "metadata": {
        "colab": {
          "base_uri": "https://localhost:8080/"
        },
        "id": "-uYFpMw73uGS",
        "outputId": "34075acf-ed39-4e95-edbd-0d5f5e562769"
      },
      "source": [
        "num_list_2 = [2,3,4,5]\n",
        "num_op_2 = [[j+i for j in num_list_2] for i in range(0,4)]\n",
        "num_op_2"
      ],
      "execution_count": 33,
      "outputs": [
        {
          "output_type": "execute_result",
          "data": {
            "text/plain": [
              "[[2, 3, 4, 5], [3, 4, 5, 6], [4, 5, 6, 7], [5, 6, 7, 8]]"
            ]
          },
          "metadata": {
            "tags": []
          },
          "execution_count": 33
        }
      ]
    },
    {
      "cell_type": "code",
      "metadata": {
        "colab": {
          "base_uri": "https://localhost:8080/"
        },
        "id": "TDXazkVO4N1L",
        "outputId": "562b47a4-dc56-459a-a88d-bb6d3618dec5"
      },
      "source": [
        "num_list_3 = [1,2,3]\n",
        "num_op_3 = [(b,a) for a in num_list_3 for b in num_list_3]\n",
        "num_op_3"
      ],
      "execution_count": 35,
      "outputs": [
        {
          "output_type": "execute_result",
          "data": {
            "text/plain": [
              "[(1, 1), (2, 1), (3, 1), (1, 2), (2, 2), (3, 2), (1, 3), (2, 3), (3, 3)]"
            ]
          },
          "metadata": {
            "tags": []
          },
          "execution_count": 35
        }
      ]
    },
    {
      "cell_type": "code",
      "metadata": {
        "id": "Ouni1Yy85ORd"
      },
      "source": [
        ""
      ],
      "execution_count": null,
      "outputs": []
    }
  ]
}