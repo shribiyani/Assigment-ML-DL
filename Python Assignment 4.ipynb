{
 "cells": [
  {
   "cell_type": "markdown",
   "metadata": {},
   "source": [
    "# Python Assignment 4"
   ]
  },
  {
   "cell_type": "raw",
   "metadata": {},
   "source": [
    "1.1 Write a Python Program(with class concepts) to find the area of the triangle using the below formula.\n",
    "\n",
    "    area = (s*(s-a)*(s-b)*(s-c)) ** 0.5"
   ]
  },
  {
   "cell_type": "code",
   "execution_count": 4,
   "metadata": {},
   "outputs": [
    {
     "name": "stdin",
     "output_type": "stream",
     "text": [
      "Enter first side:  11\n",
      "Enter second side:  9\n",
      "Enter third side:  20\n"
     ]
    },
    {
     "name": "stdout",
     "output_type": "stream",
     "text": [
      "The area of the triangle is 0.00\n"
     ]
    }
   ],
   "source": [
    "# If a, b and c are three sides of a triangle. Then,\n",
    "#    s = (a+b+c)/2\n",
    "#    area = √(s(s-a)*(s-b)*(s-c))\n",
    "\n",
    "# find the area of triangle\n",
    "\n",
    "# a = 5\n",
    "# b = 6\n",
    "# c = 7\n",
    "\n",
    "# Area of Triangle using inputs from the user\n",
    "a = float(input('Enter first side: '))\n",
    "b = float(input('Enter second side: '))\n",
    "c = float(input('Enter third side: '))\n",
    "\n",
    "# calculate the semi-perimeter\n",
    "s = (a + b + c) / 2\n",
    "\n",
    "# calculate the area\n",
    "area = (s*(s-a)*(s-b)*(s-c)) ** 0.5\n",
    "print('The area of the triangle is %0.2f' %area)"
   ]
  },
  {
   "cell_type": "raw",
   "metadata": {},
   "source": [
    "1.2 Write a function filter_long_words() that takes a list of words and an integer n and returns the list of words that are longer than n."
   ]
  },
  {
   "cell_type": "code",
   "execution_count": 6,
   "metadata": {},
   "outputs": [
    {
     "name": "stdout",
     "output_type": "stream",
     "text": [
      "Initialized List Utility Object\n",
      "New List of Words :['Today', 'beautiful']\n"
     ]
    }
   ],
   "source": [
    "\n",
    "\n",
    "class list_utility:\n",
    "    def __init__(self, wordlist):\n",
    "        self.wordlist = wordlist\n",
    "    print (\"Initialized List Utility Object\")\n",
    "    def filter_long_words(self, n):\n",
    "        return list(filter(lambda x:len(x) > n, self.wordlist))\n",
    "\n",
    "instance = list_utility([\"Today\",\"is\",\"a\",\"beautiful\",\"day\"])\n",
    "print (\"New List of Words :\" + str(instance.filter_long_words(3)) ) "
   ]
  },
  {
   "cell_type": "raw",
   "metadata": {},
   "source": [
    "2.1 Write a Python program using function concept that maps list of words into a list of integers representing the lengths of the corresponding words.\n",
    "\n",
    "Hint: If a list [ ab,cde,erty] is passed on to the python function output should come as [2,3,4]\n",
    "    \n",
    "Here 2,3 and 4 are the lengths of the words in the list."
   ]
  },
  {
   "cell_type": "code",
   "execution_count": 7,
   "metadata": {},
   "outputs": [
    {
     "name": "stdout",
     "output_type": "stream",
     "text": [
      "Word Length in integer :[5, 2, 2, 9, 3]\n"
     ]
    }
   ],
   "source": [
    "word_list = ['Today','is', 'an', 'wonderful', 'day']\n",
    "\n",
    "def wordlength(word_list):\n",
    "    return list(map(lambda x: len(x), word_list))\n",
    "\n",
    "print(\"Word Length in integer :\" +str(wordlength(word_list)))"
   ]
  },
  {
   "cell_type": "raw",
   "metadata": {},
   "source": [
    "2.2 Write a Python function which takes a character (i.e. a string of length 1) and returns True if it is a vowel, False otherwise."
   ]
  },
  {
   "cell_type": "code",
   "execution_count": 2,
   "metadata": {},
   "outputs": [
    {
     "name": "stdin",
     "output_type": "stream",
     "text": [
      "Enter Character : h i h o w r e u\n"
     ]
    },
    {
     "name": "stdout",
     "output_type": "stream",
     "text": [
      "h i h o w r e u is not a vowel.\n"
     ]
    }
   ],
   "source": [
    "char = []\n",
    "def vowel_check(char):\n",
    "    if (char == 'a' or char == 'e' or char == 'i' or char == 'o' or char == 'u'):\n",
    "        return True\n",
    "    else:\n",
    "        return False\n",
    "    \n",
    "# take user input\n",
    "char = input(\"Enter Character :\")\n",
    "\n",
    "# Invalid input, exit\n",
    "\n",
    "if (char.isalpha() == False):\n",
    "    exit()\n",
    "\n",
    "# Invoke function\n",
    "if (vowel_check(char)):\n",
    "    print(char, \"is a vowel.\");\n",
    "else:\n",
    "    print(char, \"is not a vowel.\")"
   ]
  },
  {
   "cell_type": "code",
   "execution_count": null,
   "metadata": {},
   "outputs": [],
   "source": []
  },
  {
   "cell_type": "code",
   "execution_count": null,
   "metadata": {},
   "outputs": [],
   "source": []
  }
 ],
 "metadata": {
  "kernelspec": {
   "display_name": "Python 3",
   "language": "python",
   "name": "python3"
  },
  "language_info": {
   "codemirror_mode": {
    "name": "ipython",
    "version": 3
   },
   "file_extension": ".py",
   "mimetype": "text/x-python",
   "name": "python",
   "nbconvert_exporter": "python",
   "pygments_lexer": "ipython3",
   "version": "3.8.3"
  }
 },
 "nbformat": 4,
 "nbformat_minor": 4
}
